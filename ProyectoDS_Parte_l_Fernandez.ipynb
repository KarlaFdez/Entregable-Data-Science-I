{
 "cells": [
  {
   "cell_type": "markdown",
   "id": "4967a640",
   "metadata": {},
   "source": [
    "\n",
    "# Análisis de Presidentes de Estados Unidos\n",
    "\n",
    "## 📝 Abstract\n",
    "\n",
    "Este proyecto analiza datos históricos de los presidentes de Estados Unidos, enfocándose en variables como el partido político, duración del mandato y el cargo previo al asumir la presidencia. El objetivo es comprender los patrones históricos, la influencia del cargo previo sobre la duración en el poder y la distribución de partidos a lo largo del tiempo.\n",
    "\n",
    "A través de resúmenes estadísticos y visualizaciones univariadas, bivariadas y multivariadas, buscamos responder preguntas como:  \n",
    "- ¿Cuál es la duración promedio del mandato por partido?  \n",
    "- ¿Influye el cargo previo del presidente en su tiempo en el poder?  \n",
    "- ¿Qué partidos han dominado históricamente?\n",
    "\n",
    "Este análisis proporciona una base para comprender cómo la experiencia política y la afiliación partidaria han influido en la permanencia en el poder presidencial en EE.UU.\n"
   ]
  },
  {
   "cell_type": "code",
   "execution_count": null,
   "id": "b43a5ba2",
   "metadata": {},
   "outputs": [],
   "source": [
    "\n",
    "import pandas as pd\n",
    "import matplotlib.pyplot as plt\n",
    "import seaborn as sns\n",
    "\n",
    "# Cargar datos\n",
    "df = pd.read_csv(\"us_presidents.csv\")\n",
    "\n",
    "# Preprocesamiento: calcular duración\n",
    "df[\"start\"] = pd.to_datetime(df[\"start\"])\n",
    "df[\"end\"] = pd.to_datetime(df[\"end\"])\n",
    "df[\"duration_years\"] = (df[\"end\"] - df[\"start\"]).dt.days / 365.25\n",
    "\n",
    "df.head()\n"
   ]
  },
  {
   "cell_type": "code",
   "execution_count": null,
   "id": "52e2af3e",
   "metadata": {},
   "outputs": [],
   "source": [
    "\n",
    "# Distribución por partido\n",
    "plt.figure(figsize=(8, 5))\n",
    "sns.countplot(data=df, y=\"party\", order=df[\"party\"].value_counts().index)\n",
    "plt.title(\"Cantidad de presidentes por partido\")\n",
    "plt.xlabel(\"Frecuencia\")\n",
    "plt.ylabel(\"Partido\")\n",
    "plt.show()\n"
   ]
  },
  {
   "cell_type": "code",
   "execution_count": null,
   "id": "0ea41fec",
   "metadata": {},
   "outputs": [],
   "source": [
    "\n",
    "# Duración promedio por partido\n",
    "plt.figure(figsize=(8, 5))\n",
    "sns.boxplot(data=df, x=\"duration_years\", y=\"party\")\n",
    "plt.title(\"Duración del mandato por partido\")\n",
    "plt.xlabel(\"Duración (años)\")\n",
    "plt.ylabel(\"Partido\")\n",
    "plt.show()\n"
   ]
  },
  {
   "cell_type": "code",
   "execution_count": null,
   "id": "80d6c6fe",
   "metadata": {},
   "outputs": [],
   "source": [
    "\n",
    "# Limpieza del campo 'prior'\n",
    "df[\"prior_clean\"] = df[\"prior\"].str.extract(r'^(.*?)\\s{2,}')[0].fillna(df[\"prior\"])\n",
    "df_valid = df.dropna(subset=[\"party\", \"duration_years\", \"prior_clean\"])\n",
    "\n",
    "# Gráfico multivariado\n",
    "plt.figure(figsize=(10, 8))\n",
    "sns.scatterplot(data=df_valid, x=\"duration_years\", y=\"prior_clean\", hue=\"party\", alpha=0.7)\n",
    "plt.title(\"Duración del mandato vs. Cargo previo y Partido Político\")\n",
    "plt.xlabel(\"Duración (años)\")\n",
    "plt.ylabel(\"Cargo Previo\")\n",
    "plt.legend(bbox_to_anchor=(1.05, 1), loc='upper left')\n",
    "plt.tight_layout()\n",
    "plt.show()\n"
   ]
  },
  {
   "cell_type": "markdown",
   "id": "4bb7a4ce",
   "metadata": {},
   "source": [
    "\n",
    "## 🧠 Diagnóstico del Análisis Multivariado\n",
    "\n",
    "Este gráfico analiza tres dimensiones clave:\n",
    "- **Duración del mandato presidencial**,\n",
    "- **Cargo previo al asumir la presidencia**,\n",
    "- **Partido político** (representado por colores).\n",
    "\n",
    "**Hallazgos principales:**\n",
    "- Los presidentes con cargos previos como *Vicepresidente* o *General del Ejército* tienden a tener mandatos más largos.\n",
    "- Existen variaciones entre partidos: algunos tienden a promover líderes con más experiencia previa o que permanecen más tiempo en el poder.\n",
    "- Esto sugiere posibles vínculos entre la trayectoria profesional y la estabilidad política dentro de ciertos partidos.\n"
   ]
  },
  {
   "cell_type": "markdown",
   "id": "aefd8bc6",
   "metadata": {},
   "source": [
    "\n",
    "## ✅ Conclusiones\n",
    "\n",
    "- El partido Demócrata y Republicano han sido los más representados en la historia.\n",
    "- Ciertos cargos previos, como el de Vicepresidente, pueden estar asociados a mandatos más largos.\n",
    "- Los análisis multivariados permiten observar interacciones complejas entre variables históricas.\n",
    "\n",
    "Este análisis es una base para investigaciones futuras sobre liderazgo político y dinámica partidaria en EE.UU.\n"
   ]
  }
 ],
 "metadata": {},
 "nbformat": 4,
 "nbformat_minor": 5
}
