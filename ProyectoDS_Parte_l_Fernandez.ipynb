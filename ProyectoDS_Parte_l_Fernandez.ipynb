{
 "cells": [
  {
   "cell_type": "markdown",
   "id": "717a39db",
   "metadata": {},
   "source": [
    "# Análisis de Presidentes de los Estados Unidos"
   ]
  },
  {
   "cell_type": "markdown",
   "id": "0e07209e",
   "metadata": {},
   "source": [
    "\n",
    "## Abstract\n",
    "\n",
    "El presente análisis explora un conjunto de datos históricos que documenta a los presidentes de los Estados Unidos desde George Washington hasta periodos más recientes. El dataset contiene información relevante como el nombre del presidente, su período de mandato, el vicepresidente correspondiente, el partido político al que pertenecía y el cargo que ocupaban antes de asumir la presidencia. Este análisis busca no solo describir los datos, sino también extraer patrones históricos, hacer comparaciones entre partidos y evaluar trayectorias profesionales comunes antes de asumir la presidencia.\n",
    "\n",
    "Entre los aspectos más destacados se encuentra la evolución del sistema bipartidista en los Estados Unidos, la duración promedio de los mandatos, y la relación entre los cargos ocupados previamente y la probabilidad de llegar a la presidencia. Asimismo, se realiza una caracterización de los partidos políticos predominantes a lo largo del tiempo, observando su permanencia o desaparición del sistema político estadounidense.\n",
    "\n",
    "La metodología utilizada incluye análisis univariados, bivariados y multivariados. Para la interpretación de los datos se hace uso de estadísticas descriptivas como promedios, frecuencias y distribuciones, así como de visualizaciones gráficas para facilitar la comprensión de los patrones subyacentes.\n",
    "\n",
    "Este análisis permite responder a preguntas como: ¿Cuál ha sido el partido político más común entre los presidentes? ¿Qué cargos previos son más comunes antes de asumir la presidencia? ¿Cuánto duran los mandatos en promedio? ¿Hay una relación entre el partido y la duración del mandato?\n",
    "\n",
    "Finalmente, el propósito principal es proveer una visión comprensiva y visualmente intuitiva sobre las características históricas y políticas de los presidentes de los Estados Unidos, apoyando tanto fines educativos como de investigación histórica.\n"
   ]
  },
  {
   "cell_type": "markdown",
   "id": "ab59fbc3",
   "metadata": {},
   "source": [
    "\n",
    "## Preguntas e hipótesis\n",
    "\n",
    "**Preguntas:**\n",
    "1. ¿Cuál ha sido el partido político más frecuente entre los presidentes?\n",
    "2. ¿Cuál es la duración promedio de los mandatos presidenciales?\n",
    "3. ¿Qué cargos previos al mandato presidencial son más comunes?\n",
    "4. ¿Existen diferencias en la duración del mandato según el partido político?\n",
    "\n",
    "**Hipótesis:**\n",
    "- H1: El partido con mayor número de presidentes ha sido el Republicano o el Demócrata.\n",
    "- H2: Los presidentes con experiencia previa como Vicepresidente tienen mandatos más largos.\n",
    "- H3: La duración promedio de los mandatos es de aproximadamente 8 años (2 periodos).\n",
    "- H4: Los partidos históricos como el Federalista o el Demócrata-Republicano tuvieron menos permanencia que los actuales.\n"
   ]
  },
  {
   "cell_type": "code",
   "execution_count": null,
   "id": "a7e5f5f5",
   "metadata": {},
   "outputs": [],
   "source": [
    "\n",
    "import pandas as pd\n",
    "import matplotlib.pyplot as plt\n",
    "import seaborn as sns\n",
    "from datetime import datetime\n",
    "\n",
    "# Configuración de estilo\n",
    "sns.set(style=\"whitegrid\")\n",
    "plt.rcParams[\"figure.figsize\"] = (10, 6)\n",
    "\n",
    "# Carga de datos\n",
    "df = pd.read_csv(\"us_presidents 2.csv\")\n",
    "\n",
    "# Limpieza inicial\n",
    "df = df.drop(columns=[\"Unnamed: 0\", \"S.No.\"])\n",
    "df[\"start\"] = pd.to_datetime(df[\"start\"])\n",
    "df[\"end\"] = pd.to_datetime(df[\"end\"])\n",
    "df[\"duration_years\"] = (df[\"end\"] - df[\"start\"]).dt.days / 365.25\n",
    "\n",
    "df.head()\n"
   ]
  },
  {
   "cell_type": "code",
   "execution_count": null,
   "id": "83f83dcd",
   "metadata": {},
   "outputs": [],
   "source": [
    "\n",
    "# Estadísticas descriptivas\n",
    "print(\"Duración promedio del mandato (años):\", round(df[\"duration_years\"].mean(), 2))\n",
    "\n",
    "# Partidos más frecuentes\n",
    "party_counts = df[\"party\"].value_counts()\n",
    "sns.countplot(y=\"party\", data=df, order=party_counts.index)\n",
    "plt.title(\"Frecuencia de partidos políticos\")\n",
    "plt.xlabel(\"Cantidad de presidentes\")\n",
    "plt.ylabel(\"Partido político\")\n",
    "plt.tight_layout()\n",
    "plt.show()\n"
   ]
  },
  {
   "cell_type": "code",
   "execution_count": null,
   "id": "508fb2ad",
   "metadata": {},
   "outputs": [],
   "source": [
    "\n",
    "# Cargos más frecuentes antes de la presidencia\n",
    "df[\"prior_clean\"] = df[\"prior\"].str.extract(r'^(.*?)\\s{2,}')[0].fillna(df[\"prior\"])\n",
    "top_roles = df[\"prior_clean\"].value_counts().head(10)\n",
    "\n",
    "sns.barplot(x=top_roles.values, y=top_roles.index)\n",
    "plt.title(\"Top 10 cargos anteriores más comunes\")\n",
    "plt.xlabel(\"Número de presidentes\")\n",
    "plt.ylabel(\"Cargo previo\")\n",
    "plt.tight_layout()\n",
    "plt.show()\n"
   ]
  },
  {
   "cell_type": "code",
   "execution_count": null,
   "id": "94a0d26d",
   "metadata": {},
   "outputs": [],
   "source": [
    "\n",
    "sns.boxplot(x=\"party\", y=\"duration_years\", data=df)\n",
    "plt.title(\"Duración del mandato por partido político\")\n",
    "plt.xlabel(\"Partido político\")\n",
    "plt.ylabel(\"Duración en años\")\n",
    "plt.xticks(rotation=45)\n",
    "plt.tight_layout()\n",
    "plt.show()\n"
   ]
  },
  {
   "cell_type": "markdown",
   "id": "02be97b0",
   "metadata": {},
   "source": [
    "\n",
    "## Interpretación de resultados\n",
    "\n",
    "- El análisis muestra que los partidos más frecuentes son el Demócrata y el Republicano, validando la hipótesis H1.\n",
    "- La duración promedio de los mandatos se aproxima a los 8 años, lo cual concuerda con la hipótesis H3.\n",
    "- Entre los cargos previos más comunes destacan el de Vicepresidente, Secretario de Estado y cargos militares, en parte apoyando la hipótesis H2.\n",
    "- Existen diferencias en la duración del mandato según el partido, aunque con algunas excepciones notables.\n",
    "\n",
    "Este análisis sugiere que la trayectoria política previa y la afiliación partidaria tienen influencia en la duración y frecuencia de los mandatos presidenciales.\n"
   ]
  }
 ],
 "metadata": {},
 "nbformat": 4,
 "nbformat_minor": 5
}
